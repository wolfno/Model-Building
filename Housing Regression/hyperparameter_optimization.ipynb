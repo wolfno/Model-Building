{
 "cells": [
  {
   "cell_type": "markdown",
   "id": "9a5cc5c9",
   "metadata": {},
   "source": [
    "# Fine-Tuning and Hyperparameter Optimization"
   ]
  },
  {
   "cell_type": "markdown",
   "id": "2d0e6aa1",
   "metadata": {},
   "source": [
    "__________________________\n",
    "**Tags:** *Machine Learning*, *Hyperparameter Optimization*, *PCA*, *Regression*\n",
    "\n",
    "**Models**: *Ridge Regression*, *SGD*\n",
    "\n",
    "**Python:** *Scikit-Learn*, *Pandas*\n",
    "__________________________"
   ]
  },
  {
   "cell_type": "markdown",
   "id": "91bf6cd0",
   "metadata": {},
   "source": [
    "__________________________\n",
    "**Scenario:** Given 79 features of numerical and categorical type, we would like to predict the *Sale Price* of a real estate object in Ames, Iowa.\n",
    "\n",
    "\n",
    "**Dataset:** The Housing Dataset is provided by Kaggle; see DanB. Housing Prices Competition for Kaggle Learn Users. https://kaggle.com/competitions/home-data-for-ml-course, 2018. Kaggle.\n",
    "__________________________"
   ]
  },
  {
   "cell_type": "markdown",
   "id": "1d567dcf",
   "metadata": {},
   "source": [
    "__________________________\n",
    "## Contents"
   ]
  },
  {
   "cell_type": "markdown",
   "id": "a19abe03",
   "metadata": {},
   "source": [
    "1. **Data Preprocessing**\n",
    "<p> </p>\n",
    "2. **Dimensionality Reduction**\n",
    "<p> </p>\n",
    "3. **Model Building and Parameter Fine-Tuning**\n",
    "<p> </p>\n",
    "4. **Outputting a Test Set Prediction**\n",
    "__________________________"
   ]
  },
  {
   "cell_type": "markdown",
   "id": "bdbe8c0b",
   "metadata": {},
   "source": [
    "<p> <br> </p>\n",
    "<p> <br> </p>\n",
    "<p> <br> </p>\n",
    "<p> <br> </p>\n",
    "<p> <br> </p>"
   ]
  },
  {
   "cell_type": "markdown",
   "id": "0796f43d",
   "metadata": {},
   "source": [
    "### Packages used throughout this notebook"
   ]
  },
  {
   "cell_type": "code",
   "execution_count": 1,
   "id": "67453cf4",
   "metadata": {},
   "outputs": [],
   "source": [
    "import numpy as np\n",
    "import pandas as pd\n",
    "\n",
    "from sklearn.impute import SimpleImputer\n",
    "from sklearn.preprocessing import StandardScaler, OneHotEncoder\n",
    "from sklearn.pipeline import make_pipeline\n",
    "from sklearn.compose import ColumnTransformer\n",
    "from sklearn.decomposition import PCA\n",
    "from sklearn.linear_model import SGDRegressor\n",
    "from sklearn.model_selection import GridSearchCV\n",
    "from sklearn.metrics import mean_squared_error"
   ]
  },
  {
   "cell_type": "markdown",
   "id": "17e72c4e",
   "metadata": {},
   "source": [
    "### Reproducibility"
   ]
  },
  {
   "cell_type": "code",
   "execution_count": 2,
   "id": "d0cfb09a",
   "metadata": {},
   "outputs": [],
   "source": [
    "rng = np.random.RandomState(0)"
   ]
  },
  {
   "cell_type": "markdown",
   "id": "cfbfd733",
   "metadata": {},
   "source": [
    "### Importing Dataset"
   ]
  },
  {
   "cell_type": "code",
   "execution_count": 3,
   "id": "105aef4b",
   "metadata": {},
   "outputs": [
    {
     "data": {
      "text/plain": [
       "(1460, 81)"
      ]
     },
     "execution_count": 3,
     "metadata": {},
     "output_type": "execute_result"
    }
   ],
   "source": [
    "df_train = pd.read_csv('train.csv') #https://www.kaggle.com/competitions/home-data-for-ml-course/overview\n",
    "X_train = df_train.iloc[:,:-1]\n",
    "y_train = df_train.iloc[:,-1]\n",
    "\n",
    "df_train.shape"
   ]
  },
  {
   "cell_type": "code",
   "execution_count": 4,
   "id": "3ad314bb",
   "metadata": {
    "scrolled": false
   },
   "outputs": [
    {
     "data": {
      "text/plain": [
       "object     43\n",
       "int64      34\n",
       "float64     3\n",
       "Name: count, dtype: int64"
      ]
     },
     "execution_count": 4,
     "metadata": {},
     "output_type": "execute_result"
    }
   ],
   "source": [
    "X_train.dtypes.value_counts()"
   ]
  },
  {
   "cell_type": "markdown",
   "id": "c12b38c1",
   "metadata": {},
   "source": [
    "<p> <br> </p>\n",
    "<p> <br> </p>\n",
    "<p> <br> </p>\n",
    "<p> <br> </p>\n",
    "<p> <br> </p>"
   ]
  },
  {
   "cell_type": "markdown",
   "id": "634d8643",
   "metadata": {},
   "source": [
    "# 1. Data Preprocessing"
   ]
  },
  {
   "cell_type": "markdown",
   "id": "184036b8",
   "metadata": {},
   "source": [
    "In this section, we will create two pipelines and subsequently combine them into a single transformer."
   ]
  },
  {
   "cell_type": "markdown",
   "id": "791774f8",
   "metadata": {},
   "source": [
    "### Pipeline for numerical features"
   ]
  },
  {
   "cell_type": "markdown",
   "id": "a35ecadf",
   "metadata": {},
   "source": [
    "Let us create a list of all numerical features in the data frame. \n",
    "\n",
    "Note that we will need the column indices since Scikit Pipelines return NumPy arrays without column names."
   ]
  },
  {
   "cell_type": "code",
   "execution_count": 5,
   "id": "18f71054",
   "metadata": {},
   "outputs": [],
   "source": [
    "num_feats = X_train.select_dtypes(include=np.number).columns #all column names with numerical attributes\n",
    "\n",
    "#returns a list of all column indices with numerical attributes\n",
    "num_idx = []\n",
    "for colname in num_feats:\n",
    "    num_idx.append(X_train.columns.get_loc(colname))\n",
    "\n",
    "num_idx.remove(0) #removes \"Id\" column index"
   ]
  },
  {
   "cell_type": "markdown",
   "id": "fd7c3d68",
   "metadata": {},
   "source": [
    "Creating the respective pipeline:"
   ]
  },
  {
   "cell_type": "code",
   "execution_count": 6,
   "id": "66b58895",
   "metadata": {},
   "outputs": [],
   "source": [
    "num_pipe = make_pipeline(SimpleImputer(strategy=\"median\"),\n",
    "                         StandardScaler())"
   ]
  },
  {
   "cell_type": "markdown",
   "id": "825ec6d8",
   "metadata": {},
   "source": [
    "### Pipeline for categorical features"
   ]
  },
  {
   "cell_type": "markdown",
   "id": "7d634366",
   "metadata": {},
   "source": [
    "Let us create a list of all categorical features in the data frame."
   ]
  },
  {
   "cell_type": "code",
   "execution_count": 7,
   "id": "427dd8fa",
   "metadata": {
    "scrolled": true
   },
   "outputs": [],
   "source": [
    "cat_feats = X_train.select_dtypes(include=object).columns #all column names with categorical attributes\n",
    "\n",
    "#returns a list of all column indices with categorical attributes\n",
    "cat_idx = []\n",
    "for colname in cat_feats:\n",
    "    cat_idx.append(X_train.columns.get_loc(colname))"
   ]
  },
  {
   "cell_type": "markdown",
   "id": "2cdfdaca",
   "metadata": {},
   "source": [
    "Creating the pipeline: we will simply impute missing values by the most frequent ones and one-hot encode all categorical features."
   ]
  },
  {
   "cell_type": "code",
   "execution_count": 8,
   "id": "a4a72c1c",
   "metadata": {},
   "outputs": [],
   "source": [
    "cat_pipe = make_pipeline(SimpleImputer(strategy=\"most_frequent\"),\n",
    "                         OneHotEncoder(sparse_output=False, handle_unknown='ignore'))"
   ]
  },
  {
   "cell_type": "markdown",
   "id": "a8df5c5c",
   "metadata": {},
   "source": [
    "### Creating a Transformer"
   ]
  },
  {
   "cell_type": "markdown",
   "id": "549de82e",
   "metadata": {},
   "source": [
    "Creating the final transformer, using Scikit Learn's standard transformer *drop* that deletes the concerning features:"
   ]
  },
  {
   "cell_type": "code",
   "execution_count": 9,
   "id": "566cd5df",
   "metadata": {},
   "outputs": [],
   "source": [
    "clean_pipe = ColumnTransformer([\n",
    "                  (\"num\", num_pipe, num_idx),\n",
    "                  (\"cat\", cat_pipe, cat_idx),\n",
    "                  (\"drop\", \"drop\", [0]), #\"Id\" column is redundant\n",
    "                               ])"
   ]
  },
  {
   "cell_type": "markdown",
   "id": "3047566e",
   "metadata": {},
   "source": [
    "<p> <br> </p>\n",
    "<p> <br> </p>\n",
    "<p> <br> </p>\n",
    "<p> <br> </p>\n",
    "<p> <br> </p>"
   ]
  },
  {
   "cell_type": "markdown",
   "id": "f87f4f54",
   "metadata": {},
   "source": [
    "# 2. Dimensionality Reduction"
   ]
  },
  {
   "cell_type": "markdown",
   "id": "eb77c8f7",
   "metadata": {},
   "source": [
    "We will use a Principal Component Analysis transformer that will keep 95 % of the variance in the features."
   ]
  },
  {
   "cell_type": "code",
   "execution_count": 10,
   "id": "c60cb4b7",
   "metadata": {},
   "outputs": [],
   "source": [
    "dim_pipe = make_pipeline(PCA(n_components=0.95))"
   ]
  },
  {
   "cell_type": "markdown",
   "id": "cd01499b",
   "metadata": {},
   "source": [
    "<p> <br> </p>\n",
    "<p> <br> </p>\n",
    "<p> <br> </p>\n",
    "<p> <br> </p>\n",
    "<p> <br> </p>"
   ]
  },
  {
   "cell_type": "markdown",
   "id": "a2c3ea85",
   "metadata": {},
   "source": [
    "# 3. Model Building and Parameter Fine-Tuning"
   ]
  },
  {
   "cell_type": "markdown",
   "id": "76f87838",
   "metadata": {},
   "source": [
    "We are building a Ridge Regression Model with Stochastic Gradient Descent parameters to keep the weights small."
   ]
  },
  {
   "cell_type": "code",
   "execution_count": 11,
   "id": "537b47e1",
   "metadata": {},
   "outputs": [],
   "source": [
    "sgdreg = SGDRegressor(max_iter=1000, tol=1e-3, penalty=\"l2\", alpha=0.1, eta0=0.005,\n",
    "                      random_state=rng)"
   ]
  },
  {
   "cell_type": "code",
   "execution_count": 12,
   "id": "c32dac68",
   "metadata": {},
   "outputs": [],
   "source": [
    "full_pipes = make_pipeline(clean_pipe,\n",
    "                           dim_pipe,\n",
    "                           sgdreg)"
   ]
  },
  {
   "cell_type": "markdown",
   "id": "21d709e9",
   "metadata": {},
   "source": [
    "We would like to find the best hyperparameters for the model. Therefore, we will use *GridSearchCV* and plot the results in a table."
   ]
  },
  {
   "cell_type": "code",
   "execution_count": 13,
   "id": "38959071",
   "metadata": {
    "scrolled": false
   },
   "outputs": [],
   "source": [
    "param_grid = {'sgdregressor__alpha': [0.01, 0.03, 0.1, 0.3],\n",
    "              'sgdregressor__eta0': [0.001, 0.003, 0.01, 0.03, 0.1, 0.3]}\n",
    "\n",
    "grid_search = GridSearchCV(full_pipes, param_grid, cv=3,\n",
    "                                 scoring=\"neg_root_mean_squared_error\")"
   ]
  },
  {
   "cell_type": "code",
   "execution_count": 14,
   "id": "06647dfe",
   "metadata": {
    "scrolled": false
   },
   "outputs": [
    {
     "data": {
      "text/html": [
       "<div>\n",
       "<style scoped>\n",
       "    .dataframe tbody tr th:only-of-type {\n",
       "        vertical-align: middle;\n",
       "    }\n",
       "\n",
       "    .dataframe tbody tr th {\n",
       "        vertical-align: top;\n",
       "    }\n",
       "\n",
       "    .dataframe thead th {\n",
       "        text-align: right;\n",
       "    }\n",
       "</style>\n",
       "<table border=\"1\" class=\"dataframe\">\n",
       "  <thead>\n",
       "    <tr style=\"text-align: right;\">\n",
       "      <th></th>\n",
       "      <th>mean_fit_time</th>\n",
       "      <th>std_fit_time</th>\n",
       "      <th>mean_score_time</th>\n",
       "      <th>std_score_time</th>\n",
       "      <th>param_sgdregressor__alpha</th>\n",
       "      <th>param_sgdregressor__eta0</th>\n",
       "      <th>params</th>\n",
       "      <th>split0_test_score</th>\n",
       "      <th>split1_test_score</th>\n",
       "      <th>split2_test_score</th>\n",
       "      <th>mean_test_score</th>\n",
       "      <th>std_test_score</th>\n",
       "      <th>rank_test_score</th>\n",
       "    </tr>\n",
       "  </thead>\n",
       "  <tbody>\n",
       "    <tr>\n",
       "      <th>6</th>\n",
       "      <td>0.306298</td>\n",
       "      <td>0.019672</td>\n",
       "      <td>0.020748</td>\n",
       "      <td>0.000715</td>\n",
       "      <td>0.03</td>\n",
       "      <td>0.001</td>\n",
       "      <td>{'sgdregressor__alpha': 0.03, 'sgdregressor__e...</td>\n",
       "      <td>-28015.302940</td>\n",
       "      <td>-34776.996662</td>\n",
       "      <td>-38930.698260</td>\n",
       "      <td>-33907.665954</td>\n",
       "      <td>4498.389761</td>\n",
       "      <td>1</td>\n",
       "    </tr>\n",
       "    <tr>\n",
       "      <th>12</th>\n",
       "      <td>0.297204</td>\n",
       "      <td>0.011736</td>\n",
       "      <td>0.022638</td>\n",
       "      <td>0.000845</td>\n",
       "      <td>0.1</td>\n",
       "      <td>0.001</td>\n",
       "      <td>{'sgdregressor__alpha': 0.1, 'sgdregressor__et...</td>\n",
       "      <td>-28048.863895</td>\n",
       "      <td>-34668.984742</td>\n",
       "      <td>-39093.449590</td>\n",
       "      <td>-33937.099409</td>\n",
       "      <td>4538.535770</td>\n",
       "      <td>2</td>\n",
       "    </tr>\n",
       "    <tr>\n",
       "      <th>13</th>\n",
       "      <td>0.284992</td>\n",
       "      <td>0.025059</td>\n",
       "      <td>0.024024</td>\n",
       "      <td>0.002513</td>\n",
       "      <td>0.1</td>\n",
       "      <td>0.003</td>\n",
       "      <td>{'sgdregressor__alpha': 0.1, 'sgdregressor__et...</td>\n",
       "      <td>-28158.117121</td>\n",
       "      <td>-34677.651085</td>\n",
       "      <td>-39079.226812</td>\n",
       "      <td>-33971.665006</td>\n",
       "      <td>4486.384697</td>\n",
       "      <td>3</td>\n",
       "    </tr>\n",
       "    <tr>\n",
       "      <th>7</th>\n",
       "      <td>0.292291</td>\n",
       "      <td>0.022276</td>\n",
       "      <td>0.025925</td>\n",
       "      <td>0.001403</td>\n",
       "      <td>0.03</td>\n",
       "      <td>0.003</td>\n",
       "      <td>{'sgdregressor__alpha': 0.03, 'sgdregressor__e...</td>\n",
       "      <td>-28300.329350</td>\n",
       "      <td>-34785.510820</td>\n",
       "      <td>-38860.158946</td>\n",
       "      <td>-33981.999706</td>\n",
       "      <td>4348.311769</td>\n",
       "      <td>4</td>\n",
       "    </tr>\n",
       "    <tr>\n",
       "      <th>0</th>\n",
       "      <td>0.325919</td>\n",
       "      <td>0.027657</td>\n",
       "      <td>0.023545</td>\n",
       "      <td>0.001146</td>\n",
       "      <td>0.01</td>\n",
       "      <td>0.001</td>\n",
       "      <td>{'sgdregressor__alpha': 0.01, 'sgdregressor__e...</td>\n",
       "      <td>-28157.191585</td>\n",
       "      <td>-34972.648134</td>\n",
       "      <td>-38918.318155</td>\n",
       "      <td>-34016.052625</td>\n",
       "      <td>4444.979752</td>\n",
       "      <td>5</td>\n",
       "    </tr>\n",
       "  </tbody>\n",
       "</table>\n",
       "</div>"
      ],
      "text/plain": [
       "    mean_fit_time  std_fit_time  mean_score_time  std_score_time  \\\n",
       "6        0.306298      0.019672         0.020748        0.000715   \n",
       "12       0.297204      0.011736         0.022638        0.000845   \n",
       "13       0.284992      0.025059         0.024024        0.002513   \n",
       "7        0.292291      0.022276         0.025925        0.001403   \n",
       "0        0.325919      0.027657         0.023545        0.001146   \n",
       "\n",
       "   param_sgdregressor__alpha param_sgdregressor__eta0  \\\n",
       "6                       0.03                    0.001   \n",
       "12                       0.1                    0.001   \n",
       "13                       0.1                    0.003   \n",
       "7                       0.03                    0.003   \n",
       "0                       0.01                    0.001   \n",
       "\n",
       "                                               params  split0_test_score  \\\n",
       "6   {'sgdregressor__alpha': 0.03, 'sgdregressor__e...      -28015.302940   \n",
       "12  {'sgdregressor__alpha': 0.1, 'sgdregressor__et...      -28048.863895   \n",
       "13  {'sgdregressor__alpha': 0.1, 'sgdregressor__et...      -28158.117121   \n",
       "7   {'sgdregressor__alpha': 0.03, 'sgdregressor__e...      -28300.329350   \n",
       "0   {'sgdregressor__alpha': 0.01, 'sgdregressor__e...      -28157.191585   \n",
       "\n",
       "    split1_test_score  split2_test_score  mean_test_score  std_test_score  \\\n",
       "6       -34776.996662      -38930.698260    -33907.665954     4498.389761   \n",
       "12      -34668.984742      -39093.449590    -33937.099409     4538.535770   \n",
       "13      -34677.651085      -39079.226812    -33971.665006     4486.384697   \n",
       "7       -34785.510820      -38860.158946    -33981.999706     4348.311769   \n",
       "0       -34972.648134      -38918.318155    -34016.052625     4444.979752   \n",
       "\n",
       "    rank_test_score  \n",
       "6                 1  \n",
       "12                2  \n",
       "13                3  \n",
       "7                 4  \n",
       "0                 5  "
      ]
     },
     "execution_count": 14,
     "metadata": {},
     "output_type": "execute_result"
    }
   ],
   "source": [
    "grid_search.fit(X_train, y_train)\n",
    "\n",
    "cv_res = pd.DataFrame(grid_search.cv_results_)\n",
    "cv_res.sort_values(by=\"mean_test_score\", ascending=False, inplace=True)\n",
    "cv_res.head()"
   ]
  },
  {
   "cell_type": "markdown",
   "id": "ebd42a4d",
   "metadata": {},
   "source": [
    "The best results are achieved with *alpha* = 0.03, *eta0* = 0.001. They yield a mean RMSE of 33,907 on the three cross-validation folds performed. "
   ]
  },
  {
   "cell_type": "markdown",
   "id": "c87f7b51",
   "metadata": {},
   "source": [
    "<p> <br> </p>\n",
    "<p> <br> </p>\n",
    "<p> <br> </p>\n",
    "<p> <br> </p>\n",
    "<p> <br> </p>"
   ]
  },
  {
   "cell_type": "markdown",
   "id": "f3d1aeb3",
   "metadata": {},
   "source": [
    "# 4. Outputting a Test Set Prediction"
   ]
  },
  {
   "cell_type": "markdown",
   "id": "60944275",
   "metadata": {},
   "source": [
    "The following lines create a prediction on the test set:"
   ]
  },
  {
   "cell_type": "code",
   "execution_count": 15,
   "id": "e45b8ce4",
   "metadata": {},
   "outputs": [],
   "source": [
    "full_pipes.fit(X_train, y_train)\n",
    "\n",
    "X_test = pd.read_csv('test.csv')\n",
    "df_pred = pd.DataFrame(pd.Series((X_test[\"Id\"])), columns=[\"Id\"])\n",
    "df_pred[\"SalePrice\"] = pd.Series(full_pipes.predict(X_test))"
   ]
  },
  {
   "cell_type": "markdown",
   "id": "21905af0",
   "metadata": {},
   "source": [
    "Uncomment the following line to create a CSV file:"
   ]
  },
  {
   "cell_type": "code",
   "execution_count": 16,
   "id": "5774fa96",
   "metadata": {},
   "outputs": [],
   "source": [
    "#df_pred.to_csv('out.csv', index=False)"
   ]
  },
  {
   "cell_type": "markdown",
   "id": "279f76c2",
   "metadata": {},
   "source": [
    "On Kaggle, the RMSE on the test set is about 18,775."
   ]
  }
 ],
 "metadata": {
  "kernelspec": {
   "display_name": "Python 3 (ipykernel)",
   "language": "python",
   "name": "python3"
  },
  "language_info": {
   "codemirror_mode": {
    "name": "ipython",
    "version": 3
   },
   "file_extension": ".py",
   "mimetype": "text/x-python",
   "name": "python",
   "nbconvert_exporter": "python",
   "pygments_lexer": "ipython3",
   "version": "3.12.3"
  }
 },
 "nbformat": 4,
 "nbformat_minor": 5
}
